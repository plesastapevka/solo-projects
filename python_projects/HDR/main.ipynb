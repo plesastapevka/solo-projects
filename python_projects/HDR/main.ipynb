{
 "cells": [
  {
   "cell_type": "code",
   "execution_count": 1,
   "metadata": {
    "pycharm": {
     "name": "#%%\n"
    }
   },
   "outputs": [],
   "source": [
    "from PIL import Image\n",
    "import numpy as np\n",
    "import os\n",
    "import matplotlib.pyplot as plt\n",
    "import cv2\n",
    "%matplotlib qt"
   ]
  },
  {
   "cell_type": "code",
   "execution_count": 2,
   "metadata": {
    "pycharm": {
     "name": "#%%\n"
    }
   },
   "outputs": [],
   "source": [
    "def read_image_exif(filepath):\n",
    "    # read image with exif\n",
    "    img = Image.open(filepath)\n",
    "    exif = img._getexif()\n",
    "    ret_img = plt.imread(filepath)\n",
    "    if ret_img.dtype == np.float32:\n",
    "        ret_img = np.uint8(ret_img * 255)\n",
    "    if ret_img.dtype != np.uint8:\n",
    "        raise Exception('wrong image data type')\n",
    "    return ret_img, exif[33434]"
   ]
  },
  {
   "cell_type": "code",
   "execution_count": 3,
   "metadata": {
    "pycharm": {
     "name": "#%%\n"
    }
   },
   "outputs": [],
   "source": [
    "def read_dir_images(dirpath):\n",
    "    # read all images from a directory with exif method\n",
    "    images = []\n",
    "    for file in os.listdir(dirpath):\n",
    "        if file.endswith('.jpg') or file.endswith('.jpeg') or file.endswith('.JPG') or file.endswith('.JPEG'):\n",
    "            images.append(read_image_exif(os.path.join(dirpath, file)))\n",
    "    return images"
   ]
  },
  {
   "cell_type": "code",
   "execution_count": 4,
   "metadata": {
    "pycharm": {
     "name": "#%%\n"
    }
   },
   "outputs": [],
   "source": [
    "def select_rand_points(img_list, n=100):\n",
    "    '''\n",
    "\n",
    "    '''\n",
    "    H, W = img_list[0].shape[:2]\n",
    "    pts_H = np.random.randint(0, H, size=(n,))\n",
    "    pts_W = np.random.randint(0, W, size=(n,))\n",
    "\n",
    "    pts_list = []\n",
    "    for im in img_list:\n",
    "        im_pts_val = im[pts_H, pts_W]\n",
    "        pts_list.append(im_pts_val)\n",
    "\n",
    "    return pts_list\n"
   ]
  },
  {
   "cell_type": "code",
   "execution_count": 5,
   "outputs": [],
   "source": [
    "def cam_inv_sensitivity(pixels, exposure_times, welch=None, weight=1, improved=True):\n",
    "    '''\n",
    "    Oceni inverzno funkcijo senzitivnosti kamere iz izbranih\n",
    "    vrednosti slike in časov izpostavitve.\n",
    "    \n",
    "    pixel_values - numpy.ndarray, NxM\n",
    "        N - število slik.\n",
    "        M - število izbranih točk.\n",
    "        \n",
    "        Vsak stolpec predstavlja vrednosti iste točke v različnih\n",
    "        slikah. Vsaka vrstica predstavlja vrednosti različnih točk\n",
    "        iz iste slike.\n",
    "    \n",
    "    exposure_times - numpy.ndarray, Nx1\n",
    "        Časi izpostavitve za posamezne slike v vrsticah pixel_values.\n",
    "    '''\n",
    "    if pixels.ndim != 2:\n",
    "        raise Exception('data not 2d')\n",
    "\n",
    "    N, M = pixels.shape\n",
    "    # N - number of images\n",
    "    # M - number of points\n",
    "    Z = pixels\n",
    "    _n = 256\n",
    "\n",
    "    # TODO: WTF je to?\n",
    "    first_dim = N * M + 1 + _n - 2\n",
    "    A_g = np.zeros((first_dim, 256)) # matrika vrednosti slike, N*M vrednosti iz slik +1 dodaten pogoj\n",
    "    A_E = np.zeros((first_dim, M)) # matrika tock slike, N*M vrednosti iz slik +1 dodaten pogoj\n",
    "    B = np.zeros((first_dim, 1)) # vektor casov zajemanja, N*M vrednosti iz slik +1 dodaten pogoj\n",
    "\n",
    "    for n in range(N):\n",
    "        for m in range(M):\n",
    "            if improved:\n",
    "                A_g[n*M+m, pixels[n, m]] = welch[Z[n, m]]\n",
    "                A_E[n*M+m, m] = -welch[Z[n, m]]\n",
    "                B[n*M+m] = np.log(exposure_times[n]) * welch[Z[n, m]]\n",
    "            else:\n",
    "                A_g[n*M+m, pixels[n, m]] = 1\n",
    "                A_E[n*M+m, m] = -1\n",
    "                B[n*M+m] = np.log(exposure_times[n])\n",
    "\n",
    "    # value 128 should be 0\n",
    "    A_g[-1, 128] = 1\n",
    "    B[-1] = 0\n",
    "    n += 1\n",
    "    # create a matrix from A_g and A_E\n",
    "    # print out tu vun kaj je razlika med A concat in A hstack (A hstack je uporabo hablak)\n",
    "    # A = np.concatenate((A_g, A_E), axis=1)\n",
    "    A = np.hstack((A_g, A_E))\n",
    "\n",
    "    if improved:\n",
    "        for i in range(0, _n-3): # here we continue indexing IN NxM row-col (from prev. for loop)\n",
    "            A[N*M+2+i,i] = -welch[i] * weight # matlab at the end of pdf\n",
    "            A[N*M+2+i,i+1] = 3 * welch[i] * weight # strength of smoothing\n",
    "            A[N*M+2+i,i+2] = -3 * welch[i] * weight\n",
    "            A[N*M+2+i,i+3] = welch[i] * weight\n",
    "\n",
    "    plt.imshow(A)\n",
    "    plt.show()\n",
    "    X, _, _, _ = np.linalg.lstsq(A, B, rcond=None)\n",
    "    g = X[:256].ravel()\n",
    "    return g"
   ],
   "metadata": {
    "collapsed": false,
    "pycharm": {
     "name": "#%%\n"
    }
   }
  },
  {
   "cell_type": "code",
   "execution_count": 6,
   "metadata": {
    "pycharm": {
     "name": "#%%\n"
    }
   },
   "outputs": [],
   "source": [
    "# def convert_log_intensity(list, time, inv_sensitivity):\n",
    "#     # append inv_sensitivity of image minus logarithm of time for given list of images and times\n",
    "#     log_intensity = []\n",
    "#     for i in range(len(list)):\n",
    "#         log_intensity.append(inv_sensitivity[list[i]] - np.log(time[i]))\n",
    "#     return log_intensity\n",
    "\n",
    "\n",
    "\n",
    "def convert_log_intensity(img_list, time, inv_sens_function):\n",
    "    # rekonstrukcija posamezne slike intenzitete E_i\n",
    "    return [inv_sens_function[im]-np.log(t) for im, t in zip(img_list, time)]"
   ]
  },
  {
   "cell_type": "code",
   "execution_count": 7,
   "metadata": {
    "pycharm": {
     "name": "#%%\n"
    }
   },
   "outputs": [],
   "source": [
    "def show_images(img_list, normalize=False, R=None, C=None, title=None, subtitles=None):\n",
    "    '''\n",
    "    Prikaz serije slik v enem oknu.\n",
    "    \n",
    "    img_list - list, serija slik\n",
    "    normalize - bool\n",
    "        Podane slike se nromalizirajo, tako da se poišče minimalna in\n",
    "        maksimalna vrednost preko vseh slik. Ti dve se nato uporabita \n",
    "        za normalizacijo vsake slike: img=(img-min)/(max-min)\n",
    "    R - int\n",
    "    C - int\n",
    "        Število vrstic (R) in stolpcev (C) za prikaz z pyplot.subplots. V kolikor\n",
    "        nista podana, sta izračunana tako, da se slike optimalno \n",
    "        porazdelijo v oknu.\n",
    "    \n",
    "    title - str\n",
    "        Naslov za celotno okno - figure.suptitle\n",
    "        \n",
    "    subtitles - list of str\n",
    "        Naslov za vsako sliko, prikazani z axes.set_title.\n",
    "        \n",
    "    Vrne\n",
    "        fig, ax_list\n",
    "        Referenco na figure in axes, kot jih vrne pyplot.subplots.\n",
    "        Tabela ax_list je preoblikovana - linearizirana.\n",
    "    '''\n",
    "    if normalize:\n",
    "        v_min = np.min(img_list)\n",
    "        v_max = np.max(img_list)\n",
    "    else:\n",
    "        v_min=0\n",
    "        if img_list[0].dtype == np.uint8:\n",
    "            v_max=255.\n",
    "        else:\n",
    "            v_max = 1\n",
    "    \n",
    "    if R is None or C is None:\n",
    "        R = int(len(img_list)**0.5)\n",
    "        C = int(np.ceil(len(img_list)/R))\n",
    "    \n",
    "    fig, ax_list = plt.subplots(R, C, squeeze=True)\n",
    "    ax_list = ax_list.reshape(-1)\n",
    "\n",
    "    for n, img in enumerate(img_list):\n",
    "        img_norm = (img-v_min)/(v_max-v_min)\n",
    "        \n",
    "        ax_list[n].imshow(img_norm)\n",
    "        ax_list[n].axis('off')\n",
    "        if subtitles is not None:\n",
    "            ax_list[n].set_title(subtitles[n])\n",
    "\n",
    "    for n in range(n+1, len(ax_list)):\n",
    "        ax_list[n].axis('off')\n",
    "        \n",
    "    if title:\n",
    "        fig.suptitle(title)\n",
    "    \n",
    "    return fig, ax_list"
   ]
  },
  {
   "cell_type": "code",
   "execution_count": 8,
   "metadata": {
    "pycharm": {
     "name": "#%%\n"
    }
   },
   "outputs": [],
   "source": [
    "def reconstruct_intensity_image(img_list, times, N_pts=100, show_res=True, improved = True):\n",
    "    # get welch weights for further use\n",
    "    welch = get_welch()\n",
    "\n",
    "    # reconstruct hdr\n",
    "    val_list = select_rand_points(img_list, N_pts) # get random points\n",
    "    val_list = np.array(val_list) # convert to numpy array\n",
    "    val_list = val_list.reshape(len(img_list), N_pts*3) # eno prenosno funkcijo za vse barvne kanale\n",
    "\n",
    "    # calculate camera inverse function of sensitivity\n",
    "    cam_inv_sens_fun = cam_inv_sensitivity(val_list, times, welch, improved)\n",
    "\n",
    "    # convert images from camera values to intensity values\n",
    "    img_log_int_list = convert_log_intensity(img_list, times, cam_inv_sens_fun)\n",
    "    img_int_list = [np.exp(img) for img in img_log_int_list]\n",
    "    result = None\n",
    "    if improved:\n",
    "        result = np.zeros(img_list[0].shape)\n",
    "        divisor = np.zeros(img_list[0].shape)\n",
    "        counter = 0\n",
    "        for image in img_list:\n",
    "            result += welch[image] * img_log_int_list[counter]\n",
    "            divisor += welch[image]\n",
    "            counter += 1\n",
    "\n",
    "        # HDR reconsturction\n",
    "        result = result / divisor\n",
    "    else:\n",
    "        result = np.mean(img_log_int_list, 0)\n",
    "\n",
    "\n",
    "    img_int = np.exp(result)\n",
    "    img_int /= img_int.max()\n",
    "\n",
    "    # prikazi rezultate\n",
    "    if show_res:        \n",
    "        img_labels = [f'exp. {t*1e3:.0f} ms' for t in times]\n",
    "        \n",
    "        \n",
    "        show_images([img_int, np.minimum(img_int * 8, 1), np.minimum(img_int * 16, 1), np.minimum(img_int * 32, 1)],\n",
    "                            title='reconst. hdr slika\\n$E_{i,rec}$',\n",
    "                            subtitles=[f'img*{p}' for p in [1,8,16,32]])\n",
    "        \n",
    "        show_images(img_int_list, normalize=True,\n",
    "                            title='slike intenzitete\\n$E_i$', subtitles=img_labels)\n",
    "        \n",
    "        show_images(img_log_int_list, normalize=True,\n",
    "                            title='slike intenzitete\\n$log(E_i)$', subtitles=img_labels)\n",
    "\n",
    "        plt.figure()\n",
    "        plt.plot(cam_inv_sens_fun)\n",
    "        plt.xlabel('vrednost piksla \\n$Z_{ij}$')\n",
    "        plt.ylabel('intenziteta svetlobe \\n$E_i \\Delta t_j$')\n",
    "        plt.title('inv. senzitivnost kamere \\n$g(v)$')\n",
    "        \n",
    "        show_images(img_list, title='original', subtitles=img_labels)\n",
    "\n",
    "\n",
    "    return img_int"
   ]
  },
  {
   "cell_type": "code",
   "execution_count": 9,
   "metadata": {
    "pycharm": {
     "name": "#%%\n"
    }
   },
   "outputs": [],
   "source": [
    "# https://www.recordingblogs.com/wiki/welch-window\n",
    "def get_welch():\n",
    "    size = 256\n",
    "    k = np.arange(size)\n",
    "    welch = (1-((k-((size-1)/2))/((size+1)/2))**2)*size/2\n",
    "    plt.figure()\n",
    "    plt.plot(welch)\n",
    "    plt.title('Welch window')\n",
    "    plt.show()\n",
    "    return welch"
   ]
  },
  {
   "cell_type": "code",
   "execution_count": 10,
   "metadata": {
    "pycharm": {
     "name": "#%%\n"
    }
   },
   "outputs": [],
   "source": [
    "def save_16_bit(img, filename):\n",
    "    img_16bit = np.uint16(img*65535) #expand to 16 bits\n",
    "    img_16bit = img_16bit.astype(np.uint16) #convert to uint16\n",
    "    cv2.imwrite(filename, cv2.cvtColor(img_16bit,cv2.COLOR_RGB2BGR))"
   ]
  },
  {
   "cell_type": "code",
   "execution_count": 11,
   "metadata": {
    "pycharm": {
     "name": "#%%\n"
    }
   },
   "outputs": [
    {
     "name": "stderr",
     "output_type": "stream",
     "text": [
      "Clipping input data to the valid range for imshow with RGB data ([0..1] for floats or [0..255] for integers).\n"
     ]
    },
    {
     "data": {
      "text/plain": "<matplotlib.image.AxesImage at 0x7fca01beb790>"
     },
     "execution_count": 11,
     "metadata": {},
     "output_type": "execute_result"
    }
   ],
   "source": [
    "images_times = read_dir_images(\"hdr_images_4/slike/pics_window/\")\n",
    "img_list_original = [item[0] for item in images_times]\n",
    "times = np.array([item[1] for item in images_times], dtype=np.float64)\n",
    "img_hdr = reconstruct_intensity_image(img_list_original, times, show_res=True, improved=True)\n",
    "save_16_bit(img_hdr, \"result/res.png\")\n",
    "plt.figure(figsize = (12,12))\n",
    "plt.imshow((img_hdr*300))"
   ]
  },
  {
   "cell_type": "markdown",
   "metadata": {
    "pycharm": {
     "name": "#%% md\n"
    }
   },
   "source": []
  }
 ],
 "metadata": {
  "interpreter": {
   "hash": "916dbcbb3f70747c44a77c7bcd40155683ae19c65e1c03b4aa3499c5328201f1"
  },
  "kernelspec": {
   "display_name": "Python 3.9.5 64-bit",
   "language": "python",
   "name": "python3"
  },
  "language_info": {
   "codemirror_mode": {
    "name": "ipython",
    "version": 3
   },
   "file_extension": ".py",
   "mimetype": "text/x-python",
   "name": "python",
   "nbconvert_exporter": "python",
   "pygments_lexer": "ipython3",
   "version": "3.9.2"
  },
  "orig_nbformat": 4
 },
 "nbformat": 4,
 "nbformat_minor": 2
}