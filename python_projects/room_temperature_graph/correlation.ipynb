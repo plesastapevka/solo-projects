{
 "cells": [
  {
   "cell_type": "markdown",
   "metadata": {
    "collapsed": true,
    "pycharm": {
     "name": "#%% md\n"
    }
   },
   "source": [
    "Data path and imports"
   ]
  },
  {
   "cell_type": "code",
   "execution_count": 15,
   "outputs": [],
   "source": [
    "import pandas as pd\n",
    "from datetime import datetime\n",
    "DATA_PATH = \"data/room-temperature.csv\""
   ],
   "metadata": {
    "collapsed": false,
    "pycharm": {
     "name": "#%% code\n"
    }
   }
  },
  {
   "cell_type": "code",
   "execution_count": 19,
   "outputs": [
    {
     "name": "stdout",
     "output_type": "stream",
     "text": [
      "                Date  FrontLeft  FrontRight  BackLeft  BackRight\n",
      "0    4/11/2010 11:30      295.2       297.0     295.8      296.3\n",
      "1    4/11/2010 12:00      296.2       296.4     296.2      296.3\n",
      "2    4/11/2010 12:30      297.3       297.5     296.7      297.1\n",
      "3    4/11/2010 13:00      295.9       296.7     297.4      297.0\n",
      "4    4/11/2010 13:30      297.2       296.5     297.6      297.4\n",
      "..               ...        ...         ...       ...        ...\n",
      "139   4/14/2010 9:00      295.8       294.6     294.8      295.7\n",
      "140   4/14/2010 9:30      294.8       295.5     294.7      295.6\n",
      "141  4/14/2010 10:00      295.9       295.8     295.5      295.2\n",
      "142  4/14/2010 10:30      295.1       296.2     296.0      296.1\n",
      "143  4/14/2010 11:00      296.2       297.2     296.6      296.0\n",
      "\n",
      "[144 rows x 5 columns]\n"
     ]
    }
   ],
   "source": [
    "data = pd.read_csv(DATA_PATH)\n",
    "for (name, r_data) in data.iteritems():\n",
    "    for val in r_data.values:\n",
    "        if name == \"Date\":\n",
    "            datetime_object = datetime.strptime(val, '%m/%d/%Y %H:%M')\n",
    "            val = datetime_object.strftime(\"%p\")\n",
    "            continue\n",
    "        val -= 273.15\n",
    "        if val > 23:\n",
    "            val = 1\n",
    "        else:\n",
    "            val = 0\n",
    "print(data)"
   ],
   "metadata": {
    "collapsed": false,
    "pycharm": {
     "name": "#%% code\n"
    }
   }
  }
 ],
 "metadata": {
  "kernelspec": {
   "display_name": "Python 3",
   "language": "python",
   "name": "python3"
  },
  "language_info": {
   "codemirror_mode": {
    "name": "ipython",
    "version": 2
   },
   "file_extension": ".py",
   "mimetype": "text/x-python",
   "name": "python",
   "nbconvert_exporter": "python",
   "pygments_lexer": "ipython2",
   "version": "2.7.6"
  }
 },
 "nbformat": 4,
 "nbformat_minor": 0
}