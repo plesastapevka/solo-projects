{
 "cells": [
  {
   "cell_type": "markdown",
   "metadata": {
    "collapsed": true,
    "pycharm": {
     "name": "#%% md\n"
    }
   },
   "source": [
    "Data path and imports"
   ]
  },
  {
   "cell_type": "code",
   "execution_count": 161,
   "metadata": {
    "pycharm": {
     "name": "#%% code\n"
    }
   },
   "outputs": [],
   "source": [
    "import pandas as pd\n",
    "from scipy.stats import chisquare\n",
    "from scipy.stats import chi2_contingency\n",
    "from scipy.stats import pearsonr\n",
    "from scipy.stats import spearmanr\n",
    "import numpy as np\n",
    "import plotly.graph_objects as go\n",
    "DATA_PATH = \"data/BazaIzobrazevanje.xls\""
   ]
  },
  {
   "cell_type": "markdown",
   "metadata": {
    "pycharm": {
     "name": "#%% md\n"
    }
   },
   "source": [
    "Reading linearities"
   ]
  },
  {
   "cell_type": "code",
   "execution_count": 162,
   "metadata": {
    "pycharm": {
     "name": "#%% code\n"
    }
   },
   "outputs": [],
   "source": [
    "sig = 0.05\n",
    "linearities = []\n",
    "with open(\"type.txt\", \"r\") as f:\n",
    "    for line in f:\n",
    "        linearities.append(line.strip().split(\" \")[1])"
   ]
  },
  {
   "cell_type": "markdown",
   "source": [
    "Reading XLS file"
   ],
   "metadata": {
    "collapsed": false,
    "pycharm": {
     "name": "#%% md\n"
    }
   }
  },
  {
   "cell_type": "code",
   "execution_count": 163,
   "outputs": [],
   "source": [
    "df = pd.read_excel(DATA_PATH)"
   ],
   "metadata": {
    "collapsed": false,
    "pycharm": {
     "name": "#%% code\n"
    }
   }
  },
  {
   "cell_type": "markdown",
   "source": [
    "Building columns comparison"
   ],
   "metadata": {
    "collapsed": false,
    "pycharm": {
     "name": "#%% md\n"
    }
   }
  },
  {
   "cell_type": "code",
   "execution_count": 164,
   "outputs": [],
   "source": [
    "columns = []\n",
    "for col in df.columns[12:]:\n",
    "    columns.append(col)"
   ],
   "metadata": {
    "collapsed": false,
    "pycharm": {
     "name": "#%% code\n"
    }
   }
  },
  {
   "cell_type": "markdown",
   "source": [
    "Preparing cross table array"
   ],
   "metadata": {
    "collapsed": false,
    "pycharm": {
     "name": "#%% md\n"
    }
   }
  },
  {
   "cell_type": "code",
   "execution_count": 165,
   "outputs": [],
   "source": [
    "ct = [(\"Spol\", \"Rac_doma_pred\", pd.crosstab(df.Spol, df.Rac_doma_pred, margins=True)),\n",
    "      (\"Spol\", \"Rac_doma_sedaj\", pd.crosstab(df.Spol, df.Rac_doma_sedaj, margins=True)),\n",
    "      (\"Spol\", \"Internet_pred\", pd.crosstab(df.Spol, df.Internet_pred, margins=True)),\n",
    "      (\"Spol\", \"Internet_sedaj\", pd.crosstab(df.Spol, df.Internet_sedaj, margins=True)),\n",
    "      (\"Spol\", \"Namen1_IskanjeInf\", pd.crosstab(df.Spol, df.Namen1_IskanjeInf, margins=True)),\n",
    "      (\"Spol\", \"Namen2_Komuniciranje\", pd.crosstab(df.Spol, df.Namen2_Komuniciranje, margins=True)),\n",
    "      (\"Spol\", \"Namen3_Nakupovanje\", pd.crosstab(df.Spol, df.Namen3_Nakupovanje, margins=True)),\n",
    "      (\"Spol\", \"Namen4_eStoritve\", pd.crosstab(df.Spol, df.Namen4_eStoritve, margins=True)),\n",
    "      (\"Spol\", \"E_posta\", pd.crosstab(df.Spol, df.E_posta, margins=True)),\n",
    "      (\"Spol\", \"Koristnost_tecaja\", pd.crosstab(df.Spol, df.Koristnost_tecaja, margins=True)),\n",
    "      (\"Spol\", \"Dodatno_izpop\", pd.crosstab(df.Spol, df.Dodatno_izpop, margins=True)),\n",
    "      (\"Spol\", \"Priporocilo_brezpos\", pd.crosstab(df.Spol, df.Priporocilo_brezpos, margins=True)),\n",
    "      (\"Spol\", \"Vsec_nacin\", pd.crosstab(df.Spol, df.Vsec_nacin, margins=True))]"
   ],
   "metadata": {
    "collapsed": false,
    "pycharm": {
     "name": "#%% code\n"
    }
   }
  },
  {
   "cell_type": "markdown",
   "source": [
    "Iterating cross tables"
   ],
   "metadata": {
    "collapsed": false,
    "pycharm": {
     "name": "#%% md\n"
    }
   }
  },
  {
   "cell_type": "code",
   "execution_count": 166,
   "outputs": [],
   "source": [
    "table_1 = []\n",
    "for table in ct:\n",
    "    try:\n",
    "        value = np.array([table[2].iloc[0][0:2].values, table[2].iloc[1][0:2].values])\n",
    "        ch, p = chisquare([table[2].iloc[0][0:2].values, table[2].iloc[1][0:2].values], axis=None)\n",
    "        table_1.append((table[0], table[1], ch, p, p<=sig))\n",
    "    except:\n",
    "        print(\"Skipping \" + table[0] + \" - \" + table[1])\n",
    "\n",
    "table_2 = []\n",
    "for table in ct:\n",
    "    try:\n",
    "        value = table[2]\n",
    "        stat, p, _, _ = chi2_contingency(value,correction=False)\n",
    "        table_2.append((table[0], table[1], stat, p, p<=sig))\n",
    "    except:\n",
    "        print(\"Skipping \" + table[0] + \" - \" + table[1])"
   ],
   "metadata": {
    "collapsed": false,
    "pycharm": {
     "name": "#%% code\n"
    }
   }
  },
  {
   "cell_type": "markdown",
   "source": [
    "Get correlation"
   ],
   "metadata": {
    "collapsed": false,
    "pycharm": {
     "name": "#%% md\n"
    }
   }
  },
  {
   "cell_type": "code",
   "execution_count": 167,
   "outputs": [],
   "source": [
    "correlations = []\n",
    "cor_headers = df.columns[2:10]\n",
    "counter = 0\n",
    "for i in cor_headers:\n",
    "    for j in cor_headers:\n",
    "        if i != j:\n",
    "            temp = None\n",
    "            if linearities[counter] == \"lin\":\n",
    "                temp = pearsonr(df[i], df[j]) #r, p-value\n",
    "                correlations.append((i, j,temp[0], temp[1], \"pearson\"))\n",
    "            else:\n",
    "                temp = spearmanr(df[i], df[j])\n",
    "                correlations.append((i, j,temp[0], temp[1], \"spearman\"))\n",
    "            counter += 1"
   ],
   "metadata": {
    "collapsed": false,
    "pycharm": {
     "name": "#%% code\n"
    }
   }
  },
  {
   "cell_type": "markdown",
   "source": [
    "Building tables"
   ],
   "metadata": {
    "collapsed": false,
    "pycharm": {
     "name": "#%% md\n"
    }
   }
  },
  {
   "cell_type": "code",
   "execution_count": 168,
   "outputs": [
    {
     "ename": "AttributeError",
     "evalue": "module 'plotly.validators.table' has no attribute 'LegendgroupValidator'",
     "output_type": "error",
     "traceback": [
      "\u001B[0;31m---------------------------------------------------------------------------\u001B[0m",
      "\u001B[0;31mAttributeError\u001B[0m                            Traceback (most recent call last)",
      "\u001B[0;32m/var/folders/cz/f5f5vnk53fvgs0pql502wv400000gn/T/ipykernel_79216/3886554331.py\u001B[0m in \u001B[0;36m<module>\u001B[0;34m\u001B[0m\n\u001B[1;32m      1\u001B[0m T2 = go.Figure(data=[\n\u001B[1;32m      2\u001B[0m     go.Table(header=dict(values=[\"Atribut1\", \"Atribut2\", \"Korelacijski koef\", \"R\", \"P\", \"Povezava\"]),\n\u001B[0;32m----> 3\u001B[0;31m                 cells=dict(values=np.array([[row[0], row[1], row[4], row[2], row[3], row[3] < sig] for row in correlations]).T))])\n\u001B[0m\u001B[1;32m      4\u001B[0m \u001B[0mT2\u001B[0m\u001B[0;34m.\u001B[0m\u001B[0mupdate_layout\u001B[0m\u001B[0;34m(\u001B[0m\u001B[0mmargin\u001B[0m\u001B[0;34m=\u001B[0m\u001B[0mdict\u001B[0m\u001B[0;34m(\u001B[0m\u001B[0mr\u001B[0m\u001B[0;34m=\u001B[0m\u001B[0;36m5\u001B[0m\u001B[0;34m,\u001B[0m \u001B[0ml\u001B[0m\u001B[0;34m=\u001B[0m\u001B[0;36m5\u001B[0m\u001B[0;34m,\u001B[0m \u001B[0mt\u001B[0m\u001B[0;34m=\u001B[0m\u001B[0;36m3\u001B[0m\u001B[0;34m,\u001B[0m \u001B[0mb\u001B[0m\u001B[0;34m=\u001B[0m\u001B[0;36m0\u001B[0m\u001B[0;34m)\u001B[0m\u001B[0;34m)\u001B[0m\u001B[0;34m\u001B[0m\u001B[0;34m\u001B[0m\u001B[0m\n\u001B[1;32m      5\u001B[0m \u001B[0;34m\u001B[0m\u001B[0m\n",
      "\u001B[0;32m~/anaconda3/envs/data_tools/lib/python3.7/site-packages/plotly/graph_objs/_table.py\u001B[0m in \u001B[0;36m__init__\u001B[0;34m(self, arg, cells, columnorder, columnordersrc, columnwidth, columnwidthsrc, customdata, customdatasrc, domain, header, hoverinfo, hoverinfosrc, hoverlabel, ids, idssrc, legendgroup, name, opacity, selectedpoints, showlegend, stream, uid, uirevision, visible, **kwargs)\u001B[0m\n",
      "\u001B[0;32m~/anaconda3/envs/data_tools/lib/python3.7/site-packages/_plotly_utils/importers.py\u001B[0m in \u001B[0;36m__getattr__\u001B[0;34m(import_name)\u001B[0m\n",
      "\u001B[0;31mAttributeError\u001B[0m: module 'plotly.validators.table' has no attribute 'LegendgroupValidator'"
     ]
    }
   ],
   "source": [
    "T2 = go.Figure(data=[\n",
    "    go.Table(header=dict(values=[\"Atribut1\", \"Atribut2\", \"Korelacijski koef\", \"R\", \"P\", \"Povezava\"]),\n",
    "                cells=dict(values=np.array([[row[0], row[1], row[4], row[2], row[3], row[3] < sig] for row in correlations]).T))])\n",
    "T2.update_layout(margin=dict(r=5, l=5, t=3, b=0))\n",
    "\n",
    "T3 = go.Figure(data=[\n",
    "    go.Table(header=dict(values=[\"Atribut1\", \"Atribut2\", \"Hi2\", \"P\", \"Povezava\"]),\n",
    "                cells=dict(values=np.array([[row[0], row[1], row[2], row[3], row[4]] for row in table_2]).T))])\n",
    "T3.update_layout(margin=dict(r=5, l=5, t=1, b=2))"
   ],
   "metadata": {
    "collapsed": false,
    "pycharm": {
     "name": "#%% code\n"
    }
   }
  },
  {
   "cell_type": "markdown",
   "source": [
    "Writing HTML file"
   ],
   "metadata": {
    "collapsed": false,
    "pycharm": {
     "name": "#%% md\n"
    }
   }
  },
  {
   "cell_type": "code",
   "execution_count": null,
   "outputs": [],
   "source": [
    "with open(\"correlation.html\", \"w\") as f:\n",
    "    #f.write(\"Poskus funkcije 'Chisquare'\")\n",
    "    #f.write(T1.to_html(full_html=False, include_plotlyjs='cdn'))\n",
    "    f.write(\"Poskus funkcije 'chi2_contingency'\")\n",
    "    f.write(T3.to_html(full_html=False, include_plotlyjs='cdn'))\n",
    "    for i in ct:\n",
    "        ct_info = i[2].iloc[0:5].values\n",
    "        ct_temp = go.Figure(data=[\n",
    "            go.Table(header=dict(values=[i[0]+\"/\"+i[1],\"Da\", \"Ne\", \"Skupaj\"]),\n",
    "                        cells = dict(values=[[\"Moški\", \"Ženske\", \"Skupaj\"],\n",
    "                                            [ct_info[0][0], ct_info[1][0], ct_info[2][0]],\n",
    "                                            [ct_info[0][1], ct_info[1][1], ct_info[2][1]],\n",
    "                                            [ct_info[0][2], ct_info[1][2], ct_info[2][2]]]))])\n",
    "        ct_temp.update_layout(height=100, margin=dict(r=5, l=5, t=1, b=1))\n",
    "\n",
    "        f.write(ct_temp.to_html(full_html=False, include_plotlyjs='cdn'))\n",
    "\n",
    "    f.write(\"Pearsonov test\")\n",
    "    f.write(T2.to_html(full_html=False, include_plotlyjs='cdn'))"
   ],
   "metadata": {
    "collapsed": false,
    "pycharm": {
     "name": "#%% code\n"
    }
   }
  }
 ],
 "metadata": {
  "kernelspec": {
   "name": "pycharm-fff484db",
   "language": "python",
   "display_name": "PyCharm (data_tools)"
  },
  "language_info": {
   "codemirror_mode": {
    "name": "ipython",
    "version": 3
   },
   "file_extension": ".py",
   "mimetype": "text/x-python",
   "name": "python",
   "nbconvert_exporter": "python",
   "pygments_lexer": "ipython3",
   "version": "3.6.13"
  }
 },
 "nbformat": 4,
 "nbformat_minor": 1
}