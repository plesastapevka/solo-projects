{
 "cells": [
  {
   "cell_type": "markdown",
   "source": [
    "Imports and paths"
   ],
   "metadata": {
    "collapsed": false
   }
  },
  {
   "cell_type": "code",
   "execution_count": 85,
   "outputs": [],
   "source": [
    "import numpy as np\n",
    "import scipy.ndimage as ndimage\n",
    "from matplotlib import pyplot as plt\n",
    "\n",
    "DATA_PATH = \"data/cudo1.jpg\""
   ],
   "metadata": {
    "collapsed": false,
    "pycharm": {
     "name": "#%% code\n"
    }
   }
  },
  {
   "cell_type": "markdown",
   "source": [
    "Interpolation function"
   ],
   "metadata": {
    "collapsed": false
   }
  },
  {
   "cell_type": "code",
   "execution_count": 158,
   "outputs": [],
   "source": [
    "def map(image, mapping, interpolation):\n",
    "    if interpolation == \"nn\":\n",
    "        mapping = np.rint(mapping).astype(int)\n",
    "        x = mapping[0]\n",
    "        y = mapping[1]\n",
    "        np.clip(x, 0, image.shape[0]-1, x)\n",
    "        np.clip(y, 0, image.shape[1]-1, y)\n",
    "        new_img = np.zeros((mapping.shape[1], mapping.shape[2], 3))\n",
    "\n",
    "        for i in range(3):\n",
    "            new_img[:,:,i] = image[x, y, i]\n",
    "        return new_img\n",
    "\n",
    "    elif interpolation == \"bi\":\n",
    "        x,y = np.int32(np.rint(mapping))\n",
    "        pass"
   ],
   "metadata": {
    "collapsed": false,
    "pycharm": {
     "name": "#%% code\n"
    }
   }
  },
  {
   "cell_type": "markdown",
   "source": [
    "Utilities"
   ],
   "metadata": {
    "collapsed": false,
    "pycharm": {
     "name": "#%% md\n"
    }
   }
  },
  {
   "cell_type": "code",
   "execution_count": 175,
   "outputs": [],
   "source": [
    "def rotate(pts, rds):\n",
    "    theta = np.radians(rds)\n",
    "    # Rotation operation:\n",
    "    # Rv = [xcos(theta) - ysin(theta), xsin(theta) + ycos(theta)]\n",
    "    r_pts_x = pts[0] * np.cos(theta) - pts[1] * np.sin(theta)\n",
    "    r_pts_y = pts[0] * np.sin(theta) + pts[1] * np.cos(theta)\n",
    "    return np.array([r_pts_x, r_pts_y])\n",
    "\n",
    "\n",
    "def plot_points(pts):\n",
    "    plt.figure()\n",
    "    plt.imshow(img)\n",
    "    plt.plot(pts[1, :], pts[0, :])"
   ],
   "metadata": {
    "collapsed": false,
    "pycharm": {
     "name": "#%% code\n"
    }
   }
  },
  {
   "cell_type": "markdown",
   "source": [
    "Reading data"
   ],
   "metadata": {
    "collapsed": false,
    "pycharm": {
     "name": "#%% md\n"
    }
   }
  },
  {
   "cell_type": "code",
   "execution_count": 127,
   "outputs": [
    {
     "data": {
      "text/plain": "<matplotlib.image.AxesImage at 0x7fe69d6b0b00>"
     },
     "execution_count": 127,
     "metadata": {},
     "output_type": "execute_result"
    },
    {
     "data": {
      "text/plain": "<Figure size 432x288 with 1 Axes>",
      "image/png": "[encoded data removed]"
     },
     "metadata": {
      "needs_background": "light"
     },
     "output_type": "display_data"
    }
   ],
   "source": [
    "img = plt.imread(DATA_PATH)/255\n",
    "plt.imshow(img)"
   ],
   "metadata": {
    "collapsed": false,
    "pycharm": {
     "name": "#%% code\n"
    }
   }
  },
  {
   "cell_type": "markdown",
   "source": [
    "Generate picture coordinates used for interpolation"
   ],
   "metadata": {
    "collapsed": false,
    "pycharm": {
     "name": "#%% md\n"
    }
   }
  },
  {
   "cell_type": "code",
   "execution_count": 200,
   "outputs": [
    {
     "data": {
      "text/plain": "[<matplotlib.lines.Line2D at 0x7fe688294be0>]"
     },
     "execution_count": 200,
     "metadata": {},
     "output_type": "execute_result"
    },
    {
     "data": {
      "text/plain": "<Figure size 432x288 with 1 Axes>",
      "image/png": "[encoded data removed]"
     },
     "metadata": {
      "needs_background": "light"
     },
     "output_type": "display_data"
    }
   ],
   "source": [
    "X, Y = np.meshgrid(np.arange(512), np.arange(512))\n",
    "# Scale and move image\n",
    "X = X*410/X.shape[0]\n",
    "Y = Y*900/Y.shape[0]\n",
    "X += 330\n",
    "Y += 128\n",
    "points = np.array((Y.reshape(-1), X.reshape(-1)))\n",
    "plt.figure()\n",
    "plt.imshow(img)\n",
    "plt.plot(points[1, :], points[0, :])"
   ],
   "metadata": {
    "collapsed": false,
    "pycharm": {
     "name": "#%% code\n"
    }
   }
  },
  {
   "cell_type": "markdown",
   "source": [
    "Adapt shape for map processing"
   ],
   "metadata": {
    "collapsed": false,
    "pycharm": {
     "name": "#%% md\n"
    }
   }
  },
  {
   "cell_type": "code",
   "execution_count": 201,
   "outputs": [
    {
     "data": {
      "text/plain": "(2, 512, 512)"
     },
     "execution_count": 201,
     "metadata": {},
     "output_type": "execute_result"
    }
   ],
   "source": [
    "mapping = np.array([Y, X])\n",
    "mapping.shape"
   ],
   "metadata": {
    "collapsed": false,
    "pycharm": {
     "name": "#%% code\n"
    }
   }
  },
  {
   "cell_type": "markdown",
   "source": [
    "Show interpolated picture using built-in function"
   ],
   "metadata": {
    "collapsed": false,
    "pycharm": {
     "name": "#%% md\n"
    }
   }
  },
  {
   "cell_type": "code",
   "execution_count": 202,
   "outputs": [
    {
     "name": "stderr",
     "output_type": "stream",
     "text": [
      "Clipping input data to the valid range for imshow with RGB data ([0..1] for floats or [0..255] for integers).\n"
     ]
    },
    {
     "data": {
      "text/plain": "<matplotlib.image.AxesImage at 0x7fe6591712e8>"
     },
     "execution_count": 202,
     "metadata": {},
     "output_type": "execute_result"
    },
    {
     "data": {
      "text/plain": "<Figure size 432x288 with 1 Axes>",
      "image/png": "[encoded data removed]"
     },
     "metadata": {
      "needs_background": "light"
     },
     "output_type": "display_data"
    }
   ],
   "source": [
    "img_tr = np.zeros((X.shape[0], X.shape[1], 3))\n",
    "img_tr[:, :, 0] = ndimage.interpolation.map_coordinates(img[:, :, 0], mapping)\n",
    "img_tr[:, :, 1] = ndimage.interpolation.map_coordinates(img[:, :, 1], mapping)\n",
    "img_tr[:, :, 2] = ndimage.interpolation.map_coordinates(img[:, :, 2], mapping)\n",
    "plt.figure()\n",
    "plt.imshow(img_tr)"
   ],
   "metadata": {
    "collapsed": false,
    "pycharm": {
     "name": "#%% code\n"
    }
   }
  },
  {
   "cell_type": "markdown",
   "source": [
    "Preprocess image and set variables"
   ],
   "metadata": {
    "collapsed": false,
    "pycharm": {
     "name": "#%% md\n"
    }
   }
  },
  {
   "cell_type": "code",
   "source": [
    "# Set new shape\n",
    "new_shp = (112, 180)\n",
    "x, y = np.meshgrid(np.arange(new_shp[0]), np.arange(new_shp[1]))\n",
    "\n",
    "draw_points = np.array((x.reshape(-1), y.reshape(-1)))\n",
    "plot_points(draw_points)\n",
    "\n",
    "# Rotate newly created points\n",
    "points = np.array([y, x])\n",
    "points = rotate(points, 45)\n",
    "\n",
    "# Move mapping\n",
    "points[0] += 250\n",
    "points[1] += 0\n",
    "draw_points = np.array((points[1].reshape(-1), points[0].reshape(-1)))\n",
    "plot_points(draw_points)\n",
    "\n",
    "# new_x and new_y represent the indices we need to interpolate\n",
    "new_x = ((img.shape[0]-1) / (new_shp[0]-1)) * x\n",
    "new_y = ((img.shape[1]-1) / (new_shp[1]-1)) * y\n",
    "mapping = np.array([new_y, new_x])\n"
   ],
   "metadata": {
    "collapsed": false,
    "pycharm": {
     "name": "#%% code\n"
    }
   },
   "execution_count": 234,
   "outputs": [
    {
     "data": {
      "text/plain": "<Figure size 432x288 with 1 Axes>",
      "image/png": "[encoded data removed]"
     },
     "metadata": {
      "needs_background": "light"
     },
     "output_type": "display_data"
    },
    {
     "data": {
      "text/plain": "<Figure size 432x288 with 1 Axes>",
      "image/png": "[encoded data removed]"
     },
     "metadata": {
      "needs_background": "light"
     },
     "output_type": "display_data"
    }
   ]
  },
  {
   "cell_type": "markdown",
   "source": [
    "Nearest neighbor interpolate"
   ],
   "metadata": {
    "collapsed": false,
    "pycharm": {
     "name": "#%% md\n"
    }
   }
  },
  {
   "cell_type": "code",
   "execution_count": 232,
   "outputs": [
    {
     "data": {
      "text/plain": "<matplotlib.image.AxesImage at 0x7fe6aa3e62b0>"
     },
     "execution_count": 232,
     "metadata": {},
     "output_type": "execute_result"
    },
    {
     "data": {
      "text/plain": "<Figure size 432x288 with 1 Axes>",
      "image/png": "[encoded data removed]"
     },
     "metadata": {
      "needs_background": "light"
     },
     "output_type": "display_data"
    }
   ],
   "source": [
    "# Nearest neighbor\n",
    "nn_interpolated = map(img, points, \"nn\")\n",
    "plt.figure()\n",
    "plt.imshow(nn_interpolated)\n",
    "# new_img = new_img.astype(float)\n",
    "# plot_points(new_img)\n",
    "\n",
    "\n",
    "# Bilinear"
   ],
   "metadata": {
    "collapsed": false,
    "pycharm": {
     "name": "#%% code\n"
    }
   }
  },
  {
   "cell_type": "code",
   "source": [
    "print(\"Nearest neighbor interpolation\")"
   ],
   "metadata": {
    "collapsed": false,
    "pycharm": {
     "name": "#%% code\n"
    }
   },
   "execution_count": 6,
   "outputs": [
    {
     "name": "stdout",
     "output_type": "stream",
     "text": [
      "Nearest neighbor interpolation\n"
     ]
    }
   ]
  }
 ],
 "metadata": {
  "kernelspec": {
   "display_name": "Python 3",
   "language": "python",
   "name": "python3"
  },
  "language_info": {
   "codemirror_mode": {
    "name": "ipython",
    "version": 2
   },
   "file_extension": ".py",
   "mimetype": "text/x-python",
   "name": "python",
   "nbconvert_exporter": "python",
   "pygments_lexer": "ipython2",
   "version": "2.7.6"
  }
 },
 "nbformat": 4,
 "nbformat_minor": 0
}