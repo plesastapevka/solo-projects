{
 "cells": [
  {
   "cell_type": "markdown",
   "metadata": {
    "pycharm": {
     "name": "#%% md\n"
    }
   },
   "source": [
    "## Imports and paths"
   ]
  },
  {
   "cell_type": "code",
   "execution_count": 562,
   "metadata": {
    "pycharm": {
     "name": "#%% code\n"
    }
   },
   "outputs": [],
   "source": [
    "import numpy as np\n",
    "import warnings\n",
    "from matplotlib import pyplot as plt\n",
    "\n",
    "DATA_PATH = \"data/cudo6.png\""
   ]
  },
  {
   "cell_type": "markdown",
   "metadata": {
    "pycharm": {
     "name": "#%% md\n"
    }
   },
   "source": [
    "## Interpolation function"
   ]
  },
  {
   "cell_type": "code",
   "execution_count": 563,
   "metadata": {
    "pycharm": {
     "name": "#%% code\n"
    }
   },
   "outputs": [],
   "source": [
    "def map(image, mapping, interpolation):\n",
    "    if interpolation == \"nn\":\n",
    "        mapping = np.rint(mapping).astype(int)\n",
    "        x = mapping[0]\n",
    "        y = mapping[1]\n",
    "        # Find out which coordinates should be None\n",
    "        x_nones_parts = np.where(((x < 0) | (x >= image.shape[0] - 1)))\n",
    "        x_nones = list(zip(x_nones_parts[0], x_nones_parts[1]))\n",
    "        y_nones_parts = np.where(((y < 0) | (y >= image.shape[1] - 1)))\n",
    "        y_nones = list(zip(y_nones_parts[0], y_nones_parts[1]))\n",
    "        nones = np.concatenate((x_nones, y_nones))\n",
    "        # Clip values from 0 to max shape\n",
    "        np.clip(x, 0, image.shape[0]-1, x)\n",
    "        np.clip(y, 0, image.shape[1]-1, y)\n",
    "        ret_img = image[x, y]\n",
    "        for coord in nones:\n",
    "            ret_img[coord[0], coord[1]] = None\n",
    "        return ret_img\n",
    "\n",
    "    elif interpolation == \"bi\":\n",
    "        x1, y1 = np.int32(np.floor(mapping))\n",
    "        x2, y2 = np.int32(np.ceil(mapping))\n",
    "        # Clip out of bounds\n",
    "        np.clip(x1, 0, image.shape[0] - 1, x1)\n",
    "        np.clip(x2, 0, image.shape[0] - 1, x2)\n",
    "        np.clip(y1, 0, image.shape[1] - 1, y1)\n",
    "        np.clip(y2, 0, image.shape[1] - 1, y2)\n",
    "        R1 = np.empty(shape=(mapping.shape[1], mapping.shape[2], 4))\n",
    "        R2 = np.empty(shape=(mapping.shape[1], mapping.shape[2], 4))\n",
    "        P = np.empty(shape=(mapping.shape[1], mapping.shape[2], 4))\n",
    "\n",
    "        for i in range(4):\n",
    "            with warnings.catch_warnings():\n",
    "                warnings.simplefilter(\"ignore\")\n",
    "                R1[:,:,i] = (((x2 - mapping[0])/(x2 - x1)) * image[x1, y1, i]) + (((mapping[0] - x1)/(x2 - x1)) * image[x2, y1, i])\n",
    "                R2[:,:,i] = (((x2 - mapping[0])/(x2 - x1)) * image[x1, y2, i]) + (((mapping[0] - x1)/(x2 - x1)) * image[x2, y2, i])\n",
    "                P[:,:,i] = ((y2 - mapping[1])/(y2 - y1) * R1[:,:,i]) + ((mapping[1] - y1)/(y2 - y1) * R2[:,:,i])\n",
    "        return P\n"
   ]
  },
  {
   "cell_type": "markdown",
   "metadata": {
    "pycharm": {
     "name": "#%% md\n"
    }
   },
   "source": [
    "## Utilities"
   ]
  },
  {
   "cell_type": "code",
   "execution_count": 564,
   "metadata": {
    "pycharm": {
     "name": "#%% code\n"
    }
   },
   "outputs": [],
   "source": [
    "def rotate(pts, rds):\n",
    "    theta = np.radians(rds)\n",
    "    # Rotation operation:\n",
    "    # Rv = [xcos(theta) - ysin(theta), xsin(theta) + ycos(theta)]\n",
    "    r_pts_x = pts[0] * np.cos(theta) + pts[1] * np.sin(theta)\n",
    "    r_pts_y = pts[1] * np.cos(theta) - pts[0] * np.sin(theta)\n",
    "    return np.array([r_pts_y, r_pts_x])\n",
    "\n",
    "\n",
    "def plot_points(pts):\n",
    "    plt.figure()\n",
    "    plt.imshow(img)\n",
    "    plt.plot(pts[1, :], pts[0, :])\n",
    "\n",
    "def preprocess(img, shape=(128,128), translation=(128, 128), rotation=45):\n",
    "    x, y = np.meshgrid(np.arange(shape[1]), np.arange(shape[0]))\n",
    "    # new_x and new_y represent the indices we need to interpolate\n",
    "    new_x = ((img.shape[0]-1) / (shape[0]-1)) * x\n",
    "    new_y = ((img.shape[1]-1) / (shape[1]-1)) * y\n",
    "\n",
    "    # Rotate newly created points\n",
    "    return_points = np.array([new_y, new_x])\n",
    "    return_points = rotate(return_points, rotation)\n",
    "\n",
    "    # Move and scale mapping\n",
    "    return_points[0] += translation[0]\n",
    "    return_points[1] += translation[1]\n",
    "\n",
    "    return return_points"
   ]
  },
  {
   "cell_type": "markdown",
   "metadata": {
    "pycharm": {
     "name": "#%% md\n"
    }
   },
   "source": [
    "## Reading data"
   ]
  },
  {
   "cell_type": "code",
   "execution_count": 565,
   "metadata": {
    "pycharm": {
     "name": "#%% code\n"
    }
   },
   "outputs": [
    {
     "data": {
      "text/plain": [
       "<matplotlib.image.AxesImage at 0x7fd2578ecac8>"
      ]
     },
     "execution_count": 565,
     "metadata": {},
     "output_type": "execute_result"
    },
    {
     "data": {
      "image/png": "[encoded data removed]",
      "text/plain": [
       "<Figure size 432x288 with 1 Axes>"
      ]
     },
     "metadata": {
      "needs_background": "light"
     },
     "output_type": "display_data"
    }
   ],
   "source": [
    "img = plt.imread(DATA_PATH)\n",
    "plt.imshow(img)"
   ]
  },
  {
   "cell_type": "markdown",
   "metadata": {
    "pycharm": {
     "name": "#%% md\n"
    }
   },
   "source": [
    "## Nearest neighbor interpolation"
   ]
  },
  {
   "cell_type": "code",
   "execution_count": 566,
   "metadata": {
    "pycharm": {
     "name": "#%% code\n"
    }
   },
   "outputs": [
    {
     "data": {
      "image/png": "[encoded data removed]",
      "text/plain": [
       "<Figure size 432x288 with 1 Axes>"
      ]
     },
     "metadata": {
      "needs_background": "light"
     },
     "output_type": "display_data"
    }
   ],
   "source": [
    "shp = (2048, 2048)\n",
    "mapping = preprocess(img, shape=shp, translation=(-8, 25), rotation=-55)\n",
    "nn_interpolated = map(img, mapping, \"nn\")\n",
    "plt.figure()\n",
    "plt.title(\"nearest neighbor\")\n",
    "plt.imshow(nn_interpolated)\n",
    "plt.imsave(\"out_nn.png\", nn_interpolated)"
   ]
  },
  {
   "cell_type": "markdown",
   "metadata": {
    "pycharm": {
     "name": "#%% md\n"
    }
   },
   "source": [
    "## Bilinear interpolation"
   ]
  },
  {
   "cell_type": "code",
   "execution_count": 567,
   "metadata": {
    "pycharm": {
     "name": "#%% code\n"
    }
   },
   "outputs": [
    {
     "data": {
      "image/png": "[encoded data removed]",
      "text/plain": [
       "<Figure size 432x288 with 1 Axes>"
      ]
     },
     "metadata": {
      "needs_background": "light"
     },
     "output_type": "display_data"
    }
   ],
   "source": [
    "shp = (2048, 2048)\n",
    "mapping = preprocess(img, shape=shp, translation=(-8, 25), rotation=-55)\n",
    "bi_interpolated = map(img, mapping, \"bi\")\n",
    "plt.figure()\n",
    "plt.title(\"bilinear\")\n",
    "plt.imshow(bi_interpolated)\n",
    "plt.imsave(\"out_bi.png\", bi_interpolated)"
   ]
  }
 ],
 "metadata": {
  "kernelspec": {
   "display_name": "Python 3",
   "language": "python",
   "name": "python3"
  },
  "language_info": {
   "codemirror_mode": {
    "name": "ipython",
    "version": 3
   },
   "file_extension": ".py",
   "mimetype": "text/x-python",
   "name": "python",
   "nbconvert_exporter": "python",
   "pygments_lexer": "ipython3",
   "version": "3.6.13"
  }
 },
 "nbformat": 4,
 "nbformat_minor": 1
}